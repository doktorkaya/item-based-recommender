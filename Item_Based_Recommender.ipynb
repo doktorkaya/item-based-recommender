{
 "cells": [
  {
   "cell_type": "markdown",
   "id": "234647eb",
   "metadata": {},
   "source": [
    "# Item Based Recommender\n",
    "\n",
    "* Import Dataset and Data Preprocessing\n",
    "\n",
    "* Create User Movie DataFrame\n",
    "\n",
    "* Create Item-Based Recommender\n",
    "\n",
    "* Process Functionalization"
   ]
  },
  {
   "cell_type": "markdown",
   "id": "192940cd",
   "metadata": {},
   "source": [
    "# Import Necessary Libraries"
   ]
  },
  {
   "cell_type": "code",
   "execution_count": 1,
   "id": "1bf917b0",
   "metadata": {},
   "outputs": [],
   "source": [
    "import numpy as np\n",
    "import pandas as pd\n",
    "pd.set_option(\"display.max_columns\", None)\n",
    "pd.set_option(\"display.max_rows\", None)\n",
    "pd.set_option(\"display.width\", 500)"
   ]
  },
  {
   "cell_type": "markdown",
   "id": "1a835aed",
   "metadata": {},
   "source": [
    "# Import Dataset"
   ]
  },
  {
   "cell_type": "code",
   "execution_count": 2,
   "id": "efbadc26",
   "metadata": {},
   "outputs": [
    {
     "data": {
      "text/html": [
       "<div>\n",
       "<style scoped>\n",
       "    .dataframe tbody tr th:only-of-type {\n",
       "        vertical-align: middle;\n",
       "    }\n",
       "\n",
       "    .dataframe tbody tr th {\n",
       "        vertical-align: top;\n",
       "    }\n",
       "\n",
       "    .dataframe thead th {\n",
       "        text-align: right;\n",
       "    }\n",
       "</style>\n",
       "<table border=\"1\" class=\"dataframe\">\n",
       "  <thead>\n",
       "    <tr style=\"text-align: right;\">\n",
       "      <th></th>\n",
       "      <th>movieId</th>\n",
       "      <th>title</th>\n",
       "      <th>genres</th>\n",
       "      <th>userId</th>\n",
       "      <th>rating</th>\n",
       "      <th>timestamp</th>\n",
       "    </tr>\n",
       "  </thead>\n",
       "  <tbody>\n",
       "    <tr>\n",
       "      <th>0</th>\n",
       "      <td>1</td>\n",
       "      <td>Toy Story (1995)</td>\n",
       "      <td>Adventure|Animation|Children|Comedy|Fantasy</td>\n",
       "      <td>3.0</td>\n",
       "      <td>4.0</td>\n",
       "      <td>9.449194e+08</td>\n",
       "    </tr>\n",
       "    <tr>\n",
       "      <th>1</th>\n",
       "      <td>1</td>\n",
       "      <td>Toy Story (1995)</td>\n",
       "      <td>Adventure|Animation|Children|Comedy|Fantasy</td>\n",
       "      <td>6.0</td>\n",
       "      <td>5.0</td>\n",
       "      <td>8.582755e+08</td>\n",
       "    </tr>\n",
       "    <tr>\n",
       "      <th>2</th>\n",
       "      <td>1</td>\n",
       "      <td>Toy Story (1995)</td>\n",
       "      <td>Adventure|Animation|Children|Comedy|Fantasy</td>\n",
       "      <td>8.0</td>\n",
       "      <td>4.0</td>\n",
       "      <td>8.339819e+08</td>\n",
       "    </tr>\n",
       "    <tr>\n",
       "      <th>3</th>\n",
       "      <td>1</td>\n",
       "      <td>Toy Story (1995)</td>\n",
       "      <td>Adventure|Animation|Children|Comedy|Fantasy</td>\n",
       "      <td>10.0</td>\n",
       "      <td>4.0</td>\n",
       "      <td>9.434979e+08</td>\n",
       "    </tr>\n",
       "    <tr>\n",
       "      <th>4</th>\n",
       "      <td>1</td>\n",
       "      <td>Toy Story (1995)</td>\n",
       "      <td>Adventure|Animation|Children|Comedy|Fantasy</td>\n",
       "      <td>11.0</td>\n",
       "      <td>4.5</td>\n",
       "      <td>1.230859e+09</td>\n",
       "    </tr>\n",
       "  </tbody>\n",
       "</table>\n",
       "</div>"
      ],
      "text/plain": [
       "   movieId             title                                       genres  userId  rating     timestamp\n",
       "0        1  Toy Story (1995)  Adventure|Animation|Children|Comedy|Fantasy     3.0     4.0  9.449194e+08\n",
       "1        1  Toy Story (1995)  Adventure|Animation|Children|Comedy|Fantasy     6.0     5.0  8.582755e+08\n",
       "2        1  Toy Story (1995)  Adventure|Animation|Children|Comedy|Fantasy     8.0     4.0  8.339819e+08\n",
       "3        1  Toy Story (1995)  Adventure|Animation|Children|Comedy|Fantasy    10.0     4.0  9.434979e+08\n",
       "4        1  Toy Story (1995)  Adventure|Animation|Children|Comedy|Fantasy    11.0     4.5  1.230859e+09"
      ]
     },
     "execution_count": 2,
     "metadata": {},
     "output_type": "execute_result"
    }
   ],
   "source": [
    "movies = pd.read_csv(\"movies.csv\")\n",
    "ratings = pd.read_csv(\"ratings.csv\")\n",
    "df = movies.merge(ratings, how=\"left\", on=\"movieId\")\n",
    "df.head()"
   ]
  },
  {
   "cell_type": "markdown",
   "id": "e8cccc39",
   "metadata": {},
   "source": [
    "# Create User Movie DataFrame"
   ]
  },
  {
   "cell_type": "code",
   "execution_count": 3,
   "id": "9c62e767",
   "metadata": {},
   "outputs": [
    {
     "data": {
      "text/plain": [
       "(20000797, 6)"
      ]
     },
     "execution_count": 3,
     "metadata": {},
     "output_type": "execute_result"
    }
   ],
   "source": [
    "df.shape"
   ]
  },
  {
   "cell_type": "code",
   "execution_count": 4,
   "id": "940915f5",
   "metadata": {},
   "outputs": [
    {
     "data": {
      "text/plain": [
       "27262"
      ]
     },
     "execution_count": 4,
     "metadata": {},
     "output_type": "execute_result"
    }
   ],
   "source": [
    "df[\"title\"].nunique()"
   ]
  },
  {
   "cell_type": "code",
   "execution_count": 5,
   "id": "2152c677",
   "metadata": {},
   "outputs": [
    {
     "data": {
      "text/plain": [
       "Pulp Fiction (1994)                 67310\n",
       "Forrest Gump (1994)                 66172\n",
       "Shawshank Redemption, The (1994)    63366\n",
       "Silence of the Lambs, The (1991)    63299\n",
       "Jurassic Park (1993)                59715\n",
       "Name: title, dtype: int64"
      ]
     },
     "execution_count": 5,
     "metadata": {},
     "output_type": "execute_result"
    }
   ],
   "source": [
    "df[\"title\"].value_counts().head()"
   ]
  },
  {
   "cell_type": "code",
   "execution_count": 6,
   "id": "61813ca0",
   "metadata": {},
   "outputs": [
    {
     "data": {
      "text/plain": [
       "Rapture (Arrebato) (1980)                    1\n",
       "Education of Mohammad Hussein, The (2013)    1\n",
       "Satanas (2007)                               1\n",
       "Psychosis (2010)                             1\n",
       "Innocence (2014)                             1\n",
       "Name: title, dtype: int64"
      ]
     },
     "execution_count": 6,
     "metadata": {},
     "output_type": "execute_result"
    }
   ],
   "source": [
    "df[\"title\"].value_counts().tail()"
   ]
  },
  {
   "cell_type": "code",
   "execution_count": 11,
   "id": "40484310",
   "metadata": {},
   "outputs": [],
   "source": [
    "rating_counts = pd.DataFrame(df[\"title\"].value_counts())"
   ]
  },
  {
   "cell_type": "code",
   "execution_count": 12,
   "id": "1b082f6f",
   "metadata": {},
   "outputs": [
    {
     "data": {
      "text/html": [
       "<div>\n",
       "<style scoped>\n",
       "    .dataframe tbody tr th:only-of-type {\n",
       "        vertical-align: middle;\n",
       "    }\n",
       "\n",
       "    .dataframe tbody tr th {\n",
       "        vertical-align: top;\n",
       "    }\n",
       "\n",
       "    .dataframe thead th {\n",
       "        text-align: right;\n",
       "    }\n",
       "</style>\n",
       "<table border=\"1\" class=\"dataframe\">\n",
       "  <thead>\n",
       "    <tr style=\"text-align: right;\">\n",
       "      <th></th>\n",
       "      <th>title</th>\n",
       "    </tr>\n",
       "  </thead>\n",
       "  <tbody>\n",
       "    <tr>\n",
       "      <th>Pulp Fiction (1994)</th>\n",
       "      <td>67310</td>\n",
       "    </tr>\n",
       "    <tr>\n",
       "      <th>Forrest Gump (1994)</th>\n",
       "      <td>66172</td>\n",
       "    </tr>\n",
       "    <tr>\n",
       "      <th>Shawshank Redemption, The (1994)</th>\n",
       "      <td>63366</td>\n",
       "    </tr>\n",
       "    <tr>\n",
       "      <th>Silence of the Lambs, The (1991)</th>\n",
       "      <td>63299</td>\n",
       "    </tr>\n",
       "    <tr>\n",
       "      <th>Jurassic Park (1993)</th>\n",
       "      <td>59715</td>\n",
       "    </tr>\n",
       "  </tbody>\n",
       "</table>\n",
       "</div>"
      ],
      "text/plain": [
       "                                  title\n",
       "Pulp Fiction (1994)               67310\n",
       "Forrest Gump (1994)               66172\n",
       "Shawshank Redemption, The (1994)  63366\n",
       "Silence of the Lambs, The (1991)  63299\n",
       "Jurassic Park (1993)              59715"
      ]
     },
     "execution_count": 12,
     "metadata": {},
     "output_type": "execute_result"
    }
   ],
   "source": [
    "rating_counts.head()"
   ]
  },
  {
   "cell_type": "code",
   "execution_count": 13,
   "id": "d5798a5f",
   "metadata": {},
   "outputs": [
    {
     "data": {
      "text/html": [
       "<div>\n",
       "<style scoped>\n",
       "    .dataframe tbody tr th:only-of-type {\n",
       "        vertical-align: middle;\n",
       "    }\n",
       "\n",
       "    .dataframe tbody tr th {\n",
       "        vertical-align: top;\n",
       "    }\n",
       "\n",
       "    .dataframe thead th {\n",
       "        text-align: right;\n",
       "    }\n",
       "</style>\n",
       "<table border=\"1\" class=\"dataframe\">\n",
       "  <thead>\n",
       "    <tr style=\"text-align: right;\">\n",
       "      <th></th>\n",
       "      <th>title</th>\n",
       "    </tr>\n",
       "  </thead>\n",
       "  <tbody>\n",
       "    <tr>\n",
       "      <th>Rapture (Arrebato) (1980)</th>\n",
       "      <td>1</td>\n",
       "    </tr>\n",
       "    <tr>\n",
       "      <th>Education of Mohammad Hussein, The (2013)</th>\n",
       "      <td>1</td>\n",
       "    </tr>\n",
       "    <tr>\n",
       "      <th>Satanas (2007)</th>\n",
       "      <td>1</td>\n",
       "    </tr>\n",
       "    <tr>\n",
       "      <th>Psychosis (2010)</th>\n",
       "      <td>1</td>\n",
       "    </tr>\n",
       "    <tr>\n",
       "      <th>Innocence (2014)</th>\n",
       "      <td>1</td>\n",
       "    </tr>\n",
       "  </tbody>\n",
       "</table>\n",
       "</div>"
      ],
      "text/plain": [
       "                                           title\n",
       "Rapture (Arrebato) (1980)                      1\n",
       "Education of Mohammad Hussein, The (2013)      1\n",
       "Satanas (2007)                                 1\n",
       "Psychosis (2010)                               1\n",
       "Innocence (2014)                               1"
      ]
     },
     "execution_count": 13,
     "metadata": {},
     "output_type": "execute_result"
    }
   ],
   "source": [
    "rating_counts.tail()"
   ]
  },
  {
   "cell_type": "code",
   "execution_count": 14,
   "id": "71762643",
   "metadata": {
    "scrolled": true
   },
   "outputs": [
    {
     "data": {
      "text/html": [
       "<div>\n",
       "<style scoped>\n",
       "    .dataframe tbody tr th:only-of-type {\n",
       "        vertical-align: middle;\n",
       "    }\n",
       "\n",
       "    .dataframe tbody tr th {\n",
       "        vertical-align: top;\n",
       "    }\n",
       "\n",
       "    .dataframe thead th {\n",
       "        text-align: right;\n",
       "    }\n",
       "</style>\n",
       "<table border=\"1\" class=\"dataframe\">\n",
       "  <thead>\n",
       "    <tr style=\"text-align: right;\">\n",
       "      <th></th>\n",
       "      <th>title</th>\n",
       "    </tr>\n",
       "  </thead>\n",
       "  <tbody>\n",
       "    <tr>\n",
       "      <th>Bear, The (Ours, L') (1988)</th>\n",
       "      <td>999</td>\n",
       "    </tr>\n",
       "    <tr>\n",
       "      <th>Rosewood (1997)</th>\n",
       "      <td>999</td>\n",
       "    </tr>\n",
       "    <tr>\n",
       "      <th>Ted (2012)</th>\n",
       "      <td>999</td>\n",
       "    </tr>\n",
       "    <tr>\n",
       "      <th>One Night at McCool's (2001)</th>\n",
       "      <td>999</td>\n",
       "    </tr>\n",
       "    <tr>\n",
       "      <th>Marked for Death (1990)</th>\n",
       "      <td>998</td>\n",
       "    </tr>\n",
       "  </tbody>\n",
       "</table>\n",
       "</div>"
      ],
      "text/plain": [
       "                              title\n",
       "Bear, The (Ours, L') (1988)     999\n",
       "Rosewood (1997)                 999\n",
       "Ted (2012)                      999\n",
       "One Night at McCool's (2001)    999\n",
       "Marked for Death (1990)         998"
      ]
     },
     "execution_count": 14,
     "metadata": {},
     "output_type": "execute_result"
    }
   ],
   "source": [
    "# 1000 altinda yapilan yorumlari devre disi birakiyorum\n",
    "rating_counts[rating_counts[\"title\"] < 1000].head()"
   ]
  },
  {
   "cell_type": "code",
   "execution_count": 15,
   "id": "34c1c70c",
   "metadata": {},
   "outputs": [
    {
     "data": {
      "text/plain": [
       "(24103, 1)"
      ]
     },
     "execution_count": 15,
     "metadata": {},
     "output_type": "execute_result"
    }
   ],
   "source": [
    "rating_counts[rating_counts[\"title\"] < 1000].shape"
   ]
  },
  {
   "cell_type": "code",
   "execution_count": 19,
   "id": "f32b3754",
   "metadata": {},
   "outputs": [],
   "source": [
    "rare_movies = rating_counts[rating_counts[\"title\"] < 1000].index"
   ]
  },
  {
   "cell_type": "code",
   "execution_count": 20,
   "id": "1e5a3ac4",
   "metadata": {},
   "outputs": [
    {
     "data": {
      "text/plain": [
       "Index(['Bear, The (Ours, L') (1988)', 'Rosewood (1997)', 'Ted (2012)', 'One Night at McCool's (2001)', 'Marked for Death (1990)'], dtype='object')"
      ]
     },
     "execution_count": 20,
     "metadata": {},
     "output_type": "execute_result"
    }
   ],
   "source": [
    "rare_movies[0:5]"
   ]
  },
  {
   "cell_type": "code",
   "execution_count": 21,
   "id": "b731b654",
   "metadata": {},
   "outputs": [],
   "source": [
    "common_movies = df[~df[\"title\"].isin(rare_movies)]"
   ]
  },
  {
   "cell_type": "code",
   "execution_count": 22,
   "id": "c2abdcc8",
   "metadata": {},
   "outputs": [
    {
     "data": {
      "text/plain": [
       "(17766015, 6)"
      ]
     },
     "execution_count": 22,
     "metadata": {},
     "output_type": "execute_result"
    }
   ],
   "source": [
    "common_movies.shape"
   ]
  },
  {
   "cell_type": "code",
   "execution_count": 23,
   "id": "50a7e6d6",
   "metadata": {},
   "outputs": [
    {
     "data": {
      "text/plain": [
       "(20000797, 6)"
      ]
     },
     "execution_count": 23,
     "metadata": {},
     "output_type": "execute_result"
    }
   ],
   "source": [
    "df.shape"
   ]
  },
  {
   "cell_type": "code",
   "execution_count": 25,
   "id": "3a20e6a2",
   "metadata": {},
   "outputs": [
    {
     "data": {
      "text/plain": [
       "3159"
      ]
     },
     "execution_count": 25,
     "metadata": {},
     "output_type": "execute_result"
    }
   ],
   "source": [
    "common_movies[\"title\"].nunique()"
   ]
  },
  {
   "cell_type": "code",
   "execution_count": 26,
   "id": "54ba725f",
   "metadata": {},
   "outputs": [
    {
     "data": {
      "text/plain": [
       "27262"
      ]
     },
     "execution_count": 26,
     "metadata": {},
     "output_type": "execute_result"
    }
   ],
   "source": [
    "df[\"title\"].nunique()"
   ]
  },
  {
   "cell_type": "code",
   "execution_count": 28,
   "id": "8383069d",
   "metadata": {},
   "outputs": [],
   "source": [
    "user_movie_df = common_movies.pivot_table(index=[\"userId\"], columns=[\"title\"], values=\"rating\")"
   ]
  },
  {
   "cell_type": "code",
   "execution_count": 29,
   "id": "9104639b",
   "metadata": {},
   "outputs": [
    {
     "data": {
      "text/plain": [
       "(138493, 3159)"
      ]
     },
     "execution_count": 29,
     "metadata": {},
     "output_type": "execute_result"
    }
   ],
   "source": [
    "user_movie_df.shape"
   ]
  },
  {
   "cell_type": "markdown",
   "id": "114c4f37",
   "metadata": {},
   "source": [
    "# Create Item-Based Recommender"
   ]
  },
  {
   "cell_type": "code",
   "execution_count": 33,
   "id": "47e2f643",
   "metadata": {},
   "outputs": [
    {
     "data": {
      "text/plain": [
       "title\n",
       "12 Angry Men (1957)                    1.000000\n",
       "Witness for the Prosecution (1957)     0.503740\n",
       "Inherit the Wind (1960)                0.440727\n",
       "City Lights (1931)                     0.412992\n",
       "Mr. Smith Goes to Washington (1939)    0.412903\n",
       "dtype: float64"
      ]
     },
     "execution_count": 33,
     "metadata": {},
     "output_type": "execute_result"
    }
   ],
   "source": [
    "movie_name = \"12 Angry Men (1957)\"\n",
    "movie_name = user_movie_df[movie_name]\n",
    "user_movie_df.corrwith(movie_name).sort_values(ascending=False).head()"
   ]
  },
  {
   "cell_type": "code",
   "execution_count": 35,
   "id": "a458f8a8",
   "metadata": {},
   "outputs": [
    {
     "data": {
      "text/plain": [
       "title\n",
       "Richard III (1995)                                 1.000000\n",
       "Futurama: The Beast with a Billion Backs (2008)    0.761937\n",
       "Chorus, The (Choristes, Les) (2004)                0.665781\n",
       "A-Team, The (2010)                                 0.571577\n",
       "Half Nelson (2006)                                 0.564896\n",
       "dtype: float64"
      ]
     },
     "execution_count": 35,
     "metadata": {},
     "output_type": "execute_result"
    }
   ],
   "source": [
    "# Rastgele secim yapmak \n",
    "movie_name = pd.Series(user_movie_df.columns).sample(1).values[0]\n",
    "movie_name = user_movie_df[movie_name]\n",
    "user_movie_df.corrwith(movie_name).sort_values(ascending=False).head()"
   ]
  },
  {
   "cell_type": "code",
   "execution_count": 36,
   "id": "69e30374",
   "metadata": {},
   "outputs": [],
   "source": [
    "# belirli bir anahtara gore film secmek ve oneride bulunmak\n",
    "def check_film(keyword, user_movie_df):\n",
    "    return [col for col in user_movie_df.columns if keyword in col ]"
   ]
  },
  {
   "cell_type": "code",
   "execution_count": 39,
   "id": "a9dd04d2",
   "metadata": {},
   "outputs": [
    {
     "data": {
      "text/plain": [
       "['Batman & Robin (1997)',\n",
       " 'Batman (1989)',\n",
       " 'Batman Begins (2005)',\n",
       " 'Batman Forever (1995)',\n",
       " 'Batman Returns (1992)',\n",
       " 'Batman: Mask of the Phantasm (1993)']"
      ]
     },
     "execution_count": 39,
     "metadata": {},
     "output_type": "execute_result"
    }
   ],
   "source": [
    "check_film(\"Batman\", user_movie_df)"
   ]
  },
  {
   "cell_type": "code",
   "execution_count": 40,
   "id": "2b18471b",
   "metadata": {},
   "outputs": [
    {
     "data": {
      "text/plain": [
       "title\n",
       "Batman Forever (1995)                                1.000000\n",
       "Batman & Robin (1997)                                0.620899\n",
       "Ferngully: The Last Rainforest (1992)                0.456663\n",
       "Lara Croft Tomb Raider: The Cradle of Life (2003)    0.447672\n",
       "Universal Soldier: The Return (1999)                 0.445979\n",
       "dtype: float64"
      ]
     },
     "execution_count": 40,
     "metadata": {},
     "output_type": "execute_result"
    }
   ],
   "source": [
    "movie_name = \"Batman Forever (1995)\"\n",
    "movie_name = user_movie_df[movie_name]\n",
    "user_movie_df.corrwith(movie_name).sort_values(ascending=False).head()"
   ]
  },
  {
   "cell_type": "markdown",
   "id": "ea0e084a",
   "metadata": {},
   "source": [
    "# Process Functionalization"
   ]
  },
  {
   "cell_type": "code",
   "execution_count": 41,
   "id": "b371ccbf",
   "metadata": {},
   "outputs": [],
   "source": [
    "def data_prerp(data_movie, data_rating, on=\"movieId\"):\n",
    "    movies = pd.read_csv(data_movie)\n",
    "    ratings = pd.read_csv(data_rating)\n",
    "    df = movies.merge(ratings, how=\"left\", on=on)\n",
    "    return df"
   ]
  },
  {
   "cell_type": "code",
   "execution_count": 42,
   "id": "e4faade6",
   "metadata": {},
   "outputs": [],
   "source": [
    "df = data_prerp(\"movies.csv\", \"ratings.csv\")"
   ]
  },
  {
   "cell_type": "code",
   "execution_count": 43,
   "id": "103cee27",
   "metadata": {},
   "outputs": [
    {
     "data": {
      "text/html": [
       "<div>\n",
       "<style scoped>\n",
       "    .dataframe tbody tr th:only-of-type {\n",
       "        vertical-align: middle;\n",
       "    }\n",
       "\n",
       "    .dataframe tbody tr th {\n",
       "        vertical-align: top;\n",
       "    }\n",
       "\n",
       "    .dataframe thead th {\n",
       "        text-align: right;\n",
       "    }\n",
       "</style>\n",
       "<table border=\"1\" class=\"dataframe\">\n",
       "  <thead>\n",
       "    <tr style=\"text-align: right;\">\n",
       "      <th></th>\n",
       "      <th>movieId</th>\n",
       "      <th>title</th>\n",
       "      <th>genres</th>\n",
       "      <th>userId</th>\n",
       "      <th>rating</th>\n",
       "      <th>timestamp</th>\n",
       "    </tr>\n",
       "  </thead>\n",
       "  <tbody>\n",
       "    <tr>\n",
       "      <th>0</th>\n",
       "      <td>1</td>\n",
       "      <td>Toy Story (1995)</td>\n",
       "      <td>Adventure|Animation|Children|Comedy|Fantasy</td>\n",
       "      <td>3.0</td>\n",
       "      <td>4.0</td>\n",
       "      <td>9.449194e+08</td>\n",
       "    </tr>\n",
       "    <tr>\n",
       "      <th>1</th>\n",
       "      <td>1</td>\n",
       "      <td>Toy Story (1995)</td>\n",
       "      <td>Adventure|Animation|Children|Comedy|Fantasy</td>\n",
       "      <td>6.0</td>\n",
       "      <td>5.0</td>\n",
       "      <td>8.582755e+08</td>\n",
       "    </tr>\n",
       "    <tr>\n",
       "      <th>2</th>\n",
       "      <td>1</td>\n",
       "      <td>Toy Story (1995)</td>\n",
       "      <td>Adventure|Animation|Children|Comedy|Fantasy</td>\n",
       "      <td>8.0</td>\n",
       "      <td>4.0</td>\n",
       "      <td>8.339819e+08</td>\n",
       "    </tr>\n",
       "    <tr>\n",
       "      <th>3</th>\n",
       "      <td>1</td>\n",
       "      <td>Toy Story (1995)</td>\n",
       "      <td>Adventure|Animation|Children|Comedy|Fantasy</td>\n",
       "      <td>10.0</td>\n",
       "      <td>4.0</td>\n",
       "      <td>9.434979e+08</td>\n",
       "    </tr>\n",
       "    <tr>\n",
       "      <th>4</th>\n",
       "      <td>1</td>\n",
       "      <td>Toy Story (1995)</td>\n",
       "      <td>Adventure|Animation|Children|Comedy|Fantasy</td>\n",
       "      <td>11.0</td>\n",
       "      <td>4.5</td>\n",
       "      <td>1.230859e+09</td>\n",
       "    </tr>\n",
       "  </tbody>\n",
       "</table>\n",
       "</div>"
      ],
      "text/plain": [
       "   movieId             title                                       genres  userId  rating     timestamp\n",
       "0        1  Toy Story (1995)  Adventure|Animation|Children|Comedy|Fantasy     3.0     4.0  9.449194e+08\n",
       "1        1  Toy Story (1995)  Adventure|Animation|Children|Comedy|Fantasy     6.0     5.0  8.582755e+08\n",
       "2        1  Toy Story (1995)  Adventure|Animation|Children|Comedy|Fantasy     8.0     4.0  8.339819e+08\n",
       "3        1  Toy Story (1995)  Adventure|Animation|Children|Comedy|Fantasy    10.0     4.0  9.434979e+08\n",
       "4        1  Toy Story (1995)  Adventure|Animation|Children|Comedy|Fantasy    11.0     4.5  1.230859e+09"
      ]
     },
     "execution_count": 43,
     "metadata": {},
     "output_type": "execute_result"
    }
   ],
   "source": [
    "df.head()"
   ]
  },
  {
   "cell_type": "code",
   "execution_count": 44,
   "id": "74684fe3",
   "metadata": {},
   "outputs": [],
   "source": [
    "def create_user_movie_df(dataframe):\n",
    "    rating_counts = pd.DataFrame(dataframe[\"title\"].value_counts())\n",
    "    rare_movies = rating_counts[rating_counts[\"title\"] < 1000].index\n",
    "    common_movies = dataframe[~dataframe[\"title\"].isin(rare_movies)]\n",
    "    user_movie_df = common_movies.pivot_table(index=[\"userId\"], columns=[\"title\"], values=\"rating\")\n",
    "    return user_movie_df"
   ]
  },
  {
   "cell_type": "code",
   "execution_count": 45,
   "id": "7996c7b0",
   "metadata": {},
   "outputs": [],
   "source": [
    "user_movie_df = create_user_movie_df(df)"
   ]
  },
  {
   "cell_type": "code",
   "execution_count": 46,
   "id": "67d908cc",
   "metadata": {},
   "outputs": [],
   "source": [
    "def item_based_recommender(movie_name, user_movie_df, head=10):\n",
    "    movie_name = user_movie_df[movie_name]\n",
    "    return user_movie_df.corrwith(movie_name).sort_values(ascending=False).head(head)"
   ]
  },
  {
   "cell_type": "code",
   "execution_count": 47,
   "id": "867e266e",
   "metadata": {},
   "outputs": [
    {
     "data": {
      "text/plain": [
       "title\n",
       "Batman Forever (1995)                                1.000000\n",
       "Batman & Robin (1997)                                0.620899\n",
       "Ferngully: The Last Rainforest (1992)                0.456663\n",
       "Lara Croft Tomb Raider: The Cradle of Life (2003)    0.447672\n",
       "Universal Soldier: The Return (1999)                 0.445979\n",
       "Teenage Mutant Ninja Turtles III (1993)              0.445910\n",
       "Catwoman (2004)                                      0.442391\n",
       "Flintstones in Viva Rock Vegas, The (2000)           0.441362\n",
       "Three Men and a Little Lady (1990)                   0.440241\n",
       "Don't Say a Word (2001)                              0.438625\n",
       "dtype: float64"
      ]
     },
     "execution_count": 47,
     "metadata": {},
     "output_type": "execute_result"
    }
   ],
   "source": [
    "item_based_recommender(\"Batman Forever (1995)\", user_movie_df)"
   ]
  },
  {
   "cell_type": "code",
   "execution_count": null,
   "id": "ef0a0c80",
   "metadata": {},
   "outputs": [],
   "source": []
  }
 ],
 "metadata": {
  "kernelspec": {
   "display_name": "Python 3 (ipykernel)",
   "language": "python",
   "name": "python3"
  },
  "language_info": {
   "codemirror_mode": {
    "name": "ipython",
    "version": 3
   },
   "file_extension": ".py",
   "mimetype": "text/x-python",
   "name": "python",
   "nbconvert_exporter": "python",
   "pygments_lexer": "ipython3",
   "version": "3.11.4"
  }
 },
 "nbformat": 4,
 "nbformat_minor": 5
}
